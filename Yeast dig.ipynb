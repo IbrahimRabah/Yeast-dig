{
 "cells": [
  {
   "cell_type": "code",
   "execution_count": 2,
   "id": "fac9b0b3",
   "metadata": {},
   "outputs": [],
   "source": [
    "import pyopenms"
   ]
  },
  {
   "cell_type": "code",
   "execution_count": 6,
   "id": "5c3f0311",
   "metadata": {},
   "outputs": [
    {
     "name": "stdout",
     "output_type": "stream",
     "text": [
      "HILR\n"
     ]
    },
    {
     "data": {
      "text/plain": [
       "54"
      ]
     },
     "execution_count": 6,
     "metadata": {},
     "output_type": "execute_result"
    }
   ],
   "source": [
    "from urllib.request import urlretrieve\n",
    "gh = \"https://www.uniprot.org/uniprot/P46672.fasta\"\n",
    "urlretrieve (gh , \"YEAST.fasta\")\n",
    "\n",
    "dig = ProteaseDigestion()\n",
    "dig.getEnzymeName() # Trypsin\n",
    "bsa = \"\".join([l.strip() for l in open(\"YEAST.fasta\").readlines()[1:]])\n",
    "bsa = AASequence.fromString(bsa)\n",
    "# create all digestion products\n",
    "result = []\n",
    "dig.digest(bsa, result)\n",
    "print(result[9].toString())\n",
    "len(result) # 54 peptides"
   ]
  },
  {
   "cell_type": "code",
   "execution_count": 8,
   "id": "bab9829b",
   "metadata": {},
   "outputs": [
    {
     "name": "stdout",
     "output_type": "stream",
     "text": [
      "MSDLVTK\n",
      "FESLIISK\n",
      "YPVSFTK\n",
      "EQSAQAAQWESVLK\n",
      "SGQIQPHLDQLNLVLR\n",
      "DNTFIVSTLYPTSTDVHVFEVALPLIK\n",
      "DLVASSK\n",
      "STYTTYR\n",
      "WIDYMQNLLEVSSTDK\n",
      "LEINHDLDLPHEVIEK\n",
      "APAGGAADAAAK\n",
      "ADEDVSK\n",
      "GKPDEETLK\n",
      "QQQEQQNK\n",
      "APEKPKPSAIDFR\n",
      "HPDADSLYVSTIDVGDEEGPR\n",
      "TVCSGLVK\n",
      "HFPLDAMQER\n",
      "YVVVVCNLKPVNMR\n",
      "STAMVLCGSNDDK\n",
      "VEFVEPPK\n",
      "VFFEGFGDEAPMK\n",
      "IWEHLQPHFTTNDGLEVIFK\n",
      "VASIANAQVR\n"
     ]
    }
   ],
   "source": [
    "dig.digest(bsa, result, 7, 40)\n",
    "# print the results\n",
    "for s in result:\n",
    "    print(s.toString())\n"
   ]
  },
  {
   "cell_type": "code",
   "execution_count": 9,
   "id": "30565050",
   "metadata": {},
   "outputs": [
    {
     "name": "stdout",
     "output_type": "stream",
     "text": [
      "MSDLVTK\n",
      "FESLIISK\n",
      "YPVSFTK\n",
      "EQSAQAAQWESVLK\n",
      "SGQIQPHLDQLNLVLR\n",
      "DNTFIVSTLYPTSTDVHVFEVALPLIK\n",
      "DLVASSK\n",
      "STYTTYR\n",
      "WIDYMQNLLEVSSTDK\n",
      "LEINHDLDLPHEVIEK\n",
      "APAGGAADAAAK\n",
      "ADEDVSK\n",
      "GKPDEETLK\n",
      "QQQEQQNK\n",
      "APEKPKPSAIDFR\n",
      "HPDADSLYVSTIDVGDEEGPR\n",
      "TVCSGLVK\n",
      "HFPLDAMQER\n",
      "YVVVVCNLKPVNMR\n",
      "STAMVLCGSNDDK\n",
      "VEFVEPPK\n",
      "VFFEGFGDEAPMK\n",
      "IWEHLQPHFTTNDGLEVIFK\n",
      "VASIANAQVR\n",
      "MSDLVTKFESLIISK\n",
      "FESLIISKYPVSFTK\n",
      "YPVSFTKEQSAQAAQWESVLK\n",
      "EQSAQAAQWESVLKSGQIQPHLDQLNLVLR\n",
      "DNTFIVSTLYPTSTDVHVFEVALPLIKDLVASSK\n",
      "DLVASSKDVK\n",
      "DVKSTYTTYR\n",
      "STYTTYRHILR\n",
      "HILRWIDYMQNLLEVSSTDK\n",
      "WIDYMQNLLEVSSTDKLEINHDLDLPHEVIEK\n",
      "LEINHDLDLPHEVIEKK\n",
      "KAPAGGAADAAAK\n",
      "APAGGAADAAAKADEDVSK\n",
      "ADEDVSKK\n",
      "QDHPRGKPDEETLK\n",
      "GKPDEETLKK\n",
      "AANAKQQQEQQNK\n",
      "QQQEQQNKAPEKPKPSAIDFR\n",
      "APEKPKPSAIDFRVGFIQK\n",
      "VGFIQKAIK\n",
      "AIKHPDADSLYVSTIDVGDEEGPR\n",
      "HPDADSLYVSTIDVGDEEGPRTVCSGLVK\n",
      "TVCSGLVKHFPLDAMQER\n",
      "HFPLDAMQERYVVVVCNLKPVNMR\n",
      "YVVVVCNLKPVNMRGIK\n",
      "GIKSTAMVLCGSNDDK\n",
      "STAMVLCGSNDDKVEFVEPPK\n",
      "VEFVEPPKDSK\n",
      "DSKAGDK\n",
      "AGDKVFFEGFGDEAPMK\n",
      "VFFEGFGDEAPMKQLNPK\n",
      "KIWEHLQPHFTTNDGLEVIFK\n",
      "IWEHLQPHFTTNDGLEVIFKDEEEK\n",
      "DEEEKDHPVR\n",
      "LTNAKGESFK\n",
      "GESFKVASIANAQVR\n",
      "MSDLVTKFESLIISKYPVSFTK\n",
      "FESLIISKYPVSFTKEQSAQAAQWESVLK\n",
      "YPVSFTKEQSAQAAQWESVLKSGQIQPHLDQLNLVLR\n",
      "DNTFIVSTLYPTSTDVHVFEVALPLIKDLVASSKDVK\n",
      "DLVASSKDVKSTYTTYR\n",
      "DVKSTYTTYRHILR\n",
      "STYTTYRHILRWIDYMQNLLEVSSTDK\n",
      "HILRWIDYMQNLLEVSSTDKLEINHDLDLPHEVIEK\n",
      "WIDYMQNLLEVSSTDKLEINHDLDLPHEVIEKK\n",
      "LEINHDLDLPHEVIEKKK\n",
      "KKAPAGGAADAAAK\n",
      "KAPAGGAADAAAKADEDVSK\n",
      "APAGGAADAAAKADEDVSKK\n",
      "ADEDVSKKAK\n",
      "AKKQDHPR\n",
      "KQDHPRGKPDEETLK\n",
      "QDHPRGKPDEETLKK\n",
      "GKPDEETLKKLR\n",
      "KLREEAK\n",
      "LREEAKAK\n",
      "EEAKAKK\n",
      "AAKKAANAK\n",
      "KAANAKQQQEQQNK\n",
      "AANAKQQQEQQNKAPEKPKPSAIDFR\n",
      "QQQEQQNKAPEKPKPSAIDFRVGFIQK\n",
      "APEKPKPSAIDFRVGFIQKAIK\n",
      "VGFIQKAIKHPDADSLYVSTIDVGDEEGPR\n",
      "AIKHPDADSLYVSTIDVGDEEGPRTVCSGLVK\n",
      "HPDADSLYVSTIDVGDEEGPRTVCSGLVKHFPLDAMQER\n",
      "TVCSGLVKHFPLDAMQERYVVVVCNLKPVNMR\n",
      "HFPLDAMQERYVVVVCNLKPVNMRGIK\n",
      "YVVVVCNLKPVNMRGIKSTAMVLCGSNDDK\n",
      "GIKSTAMVLCGSNDDKVEFVEPPK\n",
      "STAMVLCGSNDDKVEFVEPPKDSK\n",
      "VEFVEPPKDSKAGDK\n",
      "DSKAGDKVFFEGFGDEAPMK\n",
      "AGDKVFFEGFGDEAPMKQLNPK\n",
      "VFFEGFGDEAPMKQLNPKK\n",
      "QLNPKKK\n",
      "KKIWEHLQPHFTTNDGLEVIFK\n",
      "KIWEHLQPHFTTNDGLEVIFKDEEEK\n",
      "IWEHLQPHFTTNDGLEVIFKDEEEKDHPVR\n",
      "DEEEKDHPVRK\n",
      "DHPVRKLTNAK\n",
      "KLTNAKGESFK\n",
      "LTNAKGESFKVASIANAQVR\n"
     ]
    }
   ],
   "source": [
    "dig.setMissedCleavages(2)\n",
    "# only create peptides of length 7-40\n",
    "dig.digest(bsa, result, 7, 40)\n",
    "# print the results\n",
    "for s in result:\n",
    "    print(s.toString())"
   ]
  },
  {
   "cell_type": "code",
   "execution_count": null,
   "id": "6c9dc4a9",
   "metadata": {},
   "outputs": [],
   "source": []
  }
 ],
 "metadata": {
  "kernelspec": {
   "display_name": "Python 3",
   "language": "python",
   "name": "python3"
  },
  "language_info": {
   "codemirror_mode": {
    "name": "ipython",
    "version": 3
   },
   "file_extension": ".py",
   "mimetype": "text/x-python",
   "name": "python",
   "nbconvert_exporter": "python",
   "pygments_lexer": "ipython3",
   "version": "3.8.8"
  }
 },
 "nbformat": 4,
 "nbformat_minor": 5
}
